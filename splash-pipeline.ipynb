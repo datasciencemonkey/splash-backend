{
 "cells": [
  {
   "cell_type": "code",
   "execution_count": 0,
   "metadata": {
    "application/vnd.databricks.v1+cell": {
     "cellMetadata": {
      "byteLimit": 2048000,
      "rowLimit": 10000
     },
     "inputWidgets": {},
     "nuid": "c1fc4077-a939-4cd8-ac5f-18238c0676e3",
     "showTitle": false,
     "title": ""
    }
   },
   "outputs": [
    {
     "output_type": "stream",
     "name": "stdout",
     "output_type": "stream",
     "text": [
      "Requirement already satisfied: dspy-ai==2.4.10 in /local_disk0/.ephemeral_nfs/envs/pythonEnv-09496ab9-f6b6-4f29-97ac-ba837dabb231/lib/python3.10/site-packages (2.4.10)\nRequirement already satisfied: requests in /local_disk0/.ephemeral_nfs/envs/pythonEnv-09496ab9-f6b6-4f29-97ac-ba837dabb231/lib/python3.10/site-packages (from dspy-ai==2.4.10) (2.32.3)\nRequirement already satisfied: structlog in /local_disk0/.ephemeral_nfs/envs/pythonEnv-09496ab9-f6b6-4f29-97ac-ba837dabb231/lib/python3.10/site-packages (from dspy-ai==2.4.10) (24.4.0)\nRequirement already satisfied: jinja2 in /databricks/python3/lib/python3.10/site-packages (from dspy-ai==2.4.10) (3.1.2)\nRequirement already satisfied: regex in /local_disk0/.ephemeral_nfs/envs/pythonEnv-09496ab9-f6b6-4f29-97ac-ba837dabb231/lib/python3.10/site-packages (from dspy-ai==2.4.10) (2024.9.11)\nRequirement already satisfied: optuna in /local_disk0/.ephemeral_nfs/envs/pythonEnv-09496ab9-f6b6-4f29-97ac-ba837dabb231/lib/python3.10/site-packages (from dspy-ai==2.4.10) (4.0.0)\nRequirement already satisfied: backoff~=2.2.1 in /local_disk0/.ephemeral_nfs/envs/pythonEnv-09496ab9-f6b6-4f29-97ac-ba837dabb231/lib/python3.10/site-packages (from dspy-ai==2.4.10) (2.2.1)\nRequirement already satisfied: openai<2.0.0,>=0.28.1 in /local_disk0/.ephemeral_nfs/envs/pythonEnv-09496ab9-f6b6-4f29-97ac-ba837dabb231/lib/python3.10/site-packages (from dspy-ai==2.4.10) (1.47.0)\nRequirement already satisfied: pydantic~=2.0 in /local_disk0/.ephemeral_nfs/envs/pythonEnv-09496ab9-f6b6-4f29-97ac-ba837dabb231/lib/python3.10/site-packages (from dspy-ai==2.4.10) (2.9.2)\nRequirement already satisfied: ujson in /databricks/python3/lib/python3.10/site-packages (from dspy-ai==2.4.10) (5.4.0)\nRequirement already satisfied: joblib~=1.3.2 in /local_disk0/.ephemeral_nfs/envs/pythonEnv-09496ab9-f6b6-4f29-97ac-ba837dabb231/lib/python3.10/site-packages (from dspy-ai==2.4.10) (1.3.2)\nRequirement already satisfied: tqdm in /local_disk0/.ephemeral_nfs/envs/pythonEnv-09496ab9-f6b6-4f29-97ac-ba837dabb231/lib/python3.10/site-packages (from dspy-ai==2.4.10) (4.66.5)\nRequirement already satisfied: pandas in /databricks/python3/lib/python3.10/site-packages (from dspy-ai==2.4.10) (1.5.3)\nRequirement already satisfied: datasets<3.0.0,>=2.14.6 in /local_disk0/.ephemeral_nfs/envs/pythonEnv-09496ab9-f6b6-4f29-97ac-ba837dabb231/lib/python3.10/site-packages (from dspy-ai==2.4.10) (2.21.0)\nRequirement already satisfied: multiprocess in /local_disk0/.ephemeral_nfs/envs/pythonEnv-09496ab9-f6b6-4f29-97ac-ba837dabb231/lib/python3.10/site-packages (from datasets<3.0.0,>=2.14.6->dspy-ai==2.4.10) (0.70.16)\nRequirement already satisfied: huggingface-hub>=0.21.2 in /local_disk0/.ephemeral_nfs/envs/pythonEnv-09496ab9-f6b6-4f29-97ac-ba837dabb231/lib/python3.10/site-packages (from datasets<3.0.0,>=2.14.6->dspy-ai==2.4.10) (0.25.0)\nRequirement already satisfied: aiohttp in /local_disk0/.ephemeral_nfs/envs/pythonEnv-09496ab9-f6b6-4f29-97ac-ba837dabb231/lib/python3.10/site-packages (from datasets<3.0.0,>=2.14.6->dspy-ai==2.4.10) (3.10.5)\nRequirement already satisfied: packaging in /databricks/python3/lib/python3.10/site-packages (from datasets<3.0.0,>=2.14.6->dspy-ai==2.4.10) (23.2)\nRequirement already satisfied: filelock in /usr/local/lib/python3.10/dist-packages (from datasets<3.0.0,>=2.14.6->dspy-ai==2.4.10) (3.14.0)\nRequirement already satisfied: fsspec[http]<=2024.6.1,>=2023.1.0 in /local_disk0/.ephemeral_nfs/envs/pythonEnv-09496ab9-f6b6-4f29-97ac-ba837dabb231/lib/python3.10/site-packages (from datasets<3.0.0,>=2.14.6->dspy-ai==2.4.10) (2024.6.1)\nRequirement already satisfied: pyarrow>=15.0.0 in /local_disk0/.ephemeral_nfs/envs/pythonEnv-09496ab9-f6b6-4f29-97ac-ba837dabb231/lib/python3.10/site-packages (from datasets<3.0.0,>=2.14.6->dspy-ai==2.4.10) (17.0.0)\nRequirement already satisfied: xxhash in /local_disk0/.ephemeral_nfs/envs/pythonEnv-09496ab9-f6b6-4f29-97ac-ba837dabb231/lib/python3.10/site-packages (from datasets<3.0.0,>=2.14.6->dspy-ai==2.4.10) (3.5.0)\nRequirement already satisfied: dill<0.3.9,>=0.3.0 in /local_disk0/.ephemeral_nfs/envs/pythonEnv-09496ab9-f6b6-4f29-97ac-ba837dabb231/lib/python3.10/site-packages (from datasets<3.0.0,>=2.14.6->dspy-ai==2.4.10) (0.3.8)\nRequirement already satisfied: numpy>=1.17 in /local_disk0/.ephemeral_nfs/envs/pythonEnv-09496ab9-f6b6-4f29-97ac-ba837dabb231/lib/python3.10/site-packages (from datasets<3.0.0,>=2.14.6->dspy-ai==2.4.10) (1.26.4)\nRequirement already satisfied: pyyaml>=5.1 in /local_disk0/.ephemeral_nfs/envs/pythonEnv-09496ab9-f6b6-4f29-97ac-ba837dabb231/lib/python3.10/site-packages (from datasets<3.0.0,>=2.14.6->dspy-ai==2.4.10) (6.0.2)\nRequirement already satisfied: distro<2,>=1.7.0 in /usr/lib/python3/dist-packages (from openai<2.0.0,>=0.28.1->dspy-ai==2.4.10) (1.7.0)\nRequirement already satisfied: httpx<1,>=0.23.0 in /local_disk0/.ephemeral_nfs/envs/pythonEnv-09496ab9-f6b6-4f29-97ac-ba837dabb231/lib/python3.10/site-packages (from openai<2.0.0,>=0.28.1->dspy-ai==2.4.10) (0.27.2)\nRequirement already satisfied: typing-extensions<5,>=4.11 in /local_disk0/.ephemeral_nfs/envs/pythonEnv-09496ab9-f6b6-4f29-97ac-ba837dabb231/lib/python3.10/site-packages (from openai<2.0.0,>=0.28.1->dspy-ai==2.4.10) (4.12.2)\nRequirement already satisfied: jiter<1,>=0.4.0 in /local_disk0/.ephemeral_nfs/envs/pythonEnv-09496ab9-f6b6-4f29-97ac-ba837dabb231/lib/python3.10/site-packages (from openai<2.0.0,>=0.28.1->dspy-ai==2.4.10) (0.4.2)\nRequirement already satisfied: sniffio in /local_disk0/.ephemeral_nfs/envs/pythonEnv-09496ab9-f6b6-4f29-97ac-ba837dabb231/lib/python3.10/site-packages (from openai<2.0.0,>=0.28.1->dspy-ai==2.4.10) (1.3.1)\nRequirement already satisfied: anyio<5,>=3.5.0 in /databricks/python3/lib/python3.10/site-packages (from openai<2.0.0,>=0.28.1->dspy-ai==2.4.10) (3.5.0)\nRequirement already satisfied: pydantic-core==2.23.4 in /local_disk0/.ephemeral_nfs/envs/pythonEnv-09496ab9-f6b6-4f29-97ac-ba837dabb231/lib/python3.10/site-packages (from pydantic~=2.0->dspy-ai==2.4.10) (2.23.4)\nRequirement already satisfied: annotated-types>=0.6.0 in /local_disk0/.ephemeral_nfs/envs/pythonEnv-09496ab9-f6b6-4f29-97ac-ba837dabb231/lib/python3.10/site-packages (from pydantic~=2.0->dspy-ai==2.4.10) (0.7.0)\nRequirement already satisfied: certifi>=2017.4.17 in /databricks/python3/lib/python3.10/site-packages (from requests->dspy-ai==2.4.10) (2022.12.7)\nRequirement already satisfied: charset-normalizer<4,>=2 in /databricks/python3/lib/python3.10/site-packages (from requests->dspy-ai==2.4.10) (2.0.4)\nRequirement already satisfied: urllib3<3,>=1.21.1 in /local_disk0/.ephemeral_nfs/envs/pythonEnv-09496ab9-f6b6-4f29-97ac-ba837dabb231/lib/python3.10/site-packages (from requests->dspy-ai==2.4.10) (2.2.3)\nRequirement already satisfied: idna<4,>=2.5 in /databricks/python3/lib/python3.10/site-packages (from requests->dspy-ai==2.4.10) (3.4)\nRequirement already satisfied: MarkupSafe>=2.0 in /databricks/python3/lib/python3.10/site-packages (from jinja2->dspy-ai==2.4.10) (2.1.1)\nRequirement already satisfied: alembic>=1.5.0 in /local_disk0/.ephemeral_nfs/envs/pythonEnv-09496ab9-f6b6-4f29-97ac-ba837dabb231/lib/python3.10/site-packages (from optuna->dspy-ai==2.4.10) (1.13.2)\nRequirement already satisfied: colorlog in /local_disk0/.ephemeral_nfs/envs/pythonEnv-09496ab9-f6b6-4f29-97ac-ba837dabb231/lib/python3.10/site-packages (from optuna->dspy-ai==2.4.10) (6.8.2)\nRequirement already satisfied: sqlalchemy>=1.3.0 in /local_disk0/.ephemeral_nfs/envs/pythonEnv-09496ab9-f6b6-4f29-97ac-ba837dabb231/lib/python3.10/site-packages (from optuna->dspy-ai==2.4.10) (2.0.35)\nRequirement already satisfied: python-dateutil>=2.8.1 in /databricks/python3/lib/python3.10/site-packages (from pandas->dspy-ai==2.4.10) (2.8.2)\nRequirement already satisfied: pytz>=2020.1 in /local_disk0/.ephemeral_nfs/envs/pythonEnv-09496ab9-f6b6-4f29-97ac-ba837dabb231/lib/python3.10/site-packages (from pandas->dspy-ai==2.4.10) (2024.2)\nRequirement already satisfied: Mako in /local_disk0/.ephemeral_nfs/envs/pythonEnv-09496ab9-f6b6-4f29-97ac-ba837dabb231/lib/python3.10/site-packages (from alembic>=1.5.0->optuna->dspy-ai==2.4.10) (1.3.5)\nRequirement already satisfied: aiohappyeyeballs>=2.3.0 in /local_disk0/.ephemeral_nfs/envs/pythonEnv-09496ab9-f6b6-4f29-97ac-ba837dabb231/lib/python3.10/site-packages (from aiohttp->datasets<3.0.0,>=2.14.6->dspy-ai==2.4.10) (2.4.0)\nRequirement already satisfied: frozenlist>=1.1.1 in /local_disk0/.ephemeral_nfs/envs/pythonEnv-09496ab9-f6b6-4f29-97ac-ba837dabb231/lib/python3.10/site-packages (from aiohttp->datasets<3.0.0,>=2.14.6->dspy-ai==2.4.10) (1.4.1)\nRequirement already satisfied: multidict<7.0,>=4.5 in /local_disk0/.ephemeral_nfs/envs/pythonEnv-09496ab9-f6b6-4f29-97ac-ba837dabb231/lib/python3.10/site-packages (from aiohttp->datasets<3.0.0,>=2.14.6->dspy-ai==2.4.10) (6.1.0)\nRequirement already satisfied: yarl<2.0,>=1.0 in /local_disk0/.ephemeral_nfs/envs/pythonEnv-09496ab9-f6b6-4f29-97ac-ba837dabb231/lib/python3.10/site-packages (from aiohttp->datasets<3.0.0,>=2.14.6->dspy-ai==2.4.10) (1.11.1)\nRequirement already satisfied: aiosignal>=1.1.2 in /local_disk0/.ephemeral_nfs/envs/pythonEnv-09496ab9-f6b6-4f29-97ac-ba837dabb231/lib/python3.10/site-packages (from aiohttp->datasets<3.0.0,>=2.14.6->dspy-ai==2.4.10) (1.3.1)\nRequirement already satisfied: attrs>=17.3.0 in /local_disk0/.ephemeral_nfs/envs/pythonEnv-09496ab9-f6b6-4f29-97ac-ba837dabb231/lib/python3.10/site-packages (from aiohttp->datasets<3.0.0,>=2.14.6->dspy-ai==2.4.10) (24.2.0)\nRequirement already satisfied: async-timeout<5.0,>=4.0 in /local_disk0/.ephemeral_nfs/envs/pythonEnv-09496ab9-f6b6-4f29-97ac-ba837dabb231/lib/python3.10/site-packages (from aiohttp->datasets<3.0.0,>=2.14.6->dspy-ai==2.4.10) (4.0.3)\nRequirement already satisfied: httpcore==1.* in /local_disk0/.ephemeral_nfs/envs/pythonEnv-09496ab9-f6b6-4f29-97ac-ba837dabb231/lib/python3.10/site-packages (from httpx<1,>=0.23.0->openai<2.0.0,>=0.28.1->dspy-ai==2.4.10) (1.0.5)\nRequirement already satisfied: h11<0.15,>=0.13 in /local_disk0/.ephemeral_nfs/envs/pythonEnv-09496ab9-f6b6-4f29-97ac-ba837dabb231/lib/python3.10/site-packages (from httpcore==1.*->httpx<1,>=0.23.0->openai<2.0.0,>=0.28.1->dspy-ai==2.4.10) (0.14.0)\nRequirement already satisfied: six>=1.5 in /usr/lib/python3/dist-packages (from python-dateutil>=2.8.1->pandas->dspy-ai==2.4.10) (1.16.0)\nRequirement already satisfied: greenlet!=0.4.17 in /local_disk0/.ephemeral_nfs/envs/pythonEnv-09496ab9-f6b6-4f29-97ac-ba837dabb231/lib/python3.10/site-packages (from sqlalchemy>=1.3.0->optuna->dspy-ai==2.4.10) (3.1.1)\n\u001B[43mNote: you may need to restart the kernel using %restart_python or dbutils.library.restartPython() to use updated packages.\u001B[0m\nRequirement already satisfied: textstat in /local_disk0/.ephemeral_nfs/envs/pythonEnv-09496ab9-f6b6-4f29-97ac-ba837dabb231/lib/python3.10/site-packages (0.7.4)\nRequirement already satisfied: setuptools in /databricks/python3/lib/python3.10/site-packages (from textstat) (65.6.3)\nRequirement already satisfied: pyphen in /local_disk0/.ephemeral_nfs/envs/pythonEnv-09496ab9-f6b6-4f29-97ac-ba837dabb231/lib/python3.10/site-packages (from textstat) (0.16.0)\n\u001B[43mNote: you may need to restart the kernel using %restart_python or dbutils.library.restartPython() to use updated packages.\u001B[0m\nRequirement already satisfied: openai in /local_disk0/.ephemeral_nfs/envs/pythonEnv-09496ab9-f6b6-4f29-97ac-ba837dabb231/lib/python3.10/site-packages (1.47.0)\nRequirement already satisfied: typing-extensions<5,>=4.11 in /local_disk0/.ephemeral_nfs/envs/pythonEnv-09496ab9-f6b6-4f29-97ac-ba837dabb231/lib/python3.10/site-packages (from openai) (4.12.2)\nRequirement already satisfied: tqdm>4 in /local_disk0/.ephemeral_nfs/envs/pythonEnv-09496ab9-f6b6-4f29-97ac-ba837dabb231/lib/python3.10/site-packages (from openai) (4.66.5)\nRequirement already satisfied: httpx<1,>=0.23.0 in /local_disk0/.ephemeral_nfs/envs/pythonEnv-09496ab9-f6b6-4f29-97ac-ba837dabb231/lib/python3.10/site-packages (from openai) (0.27.2)\nRequirement already satisfied: sniffio in /local_disk0/.ephemeral_nfs/envs/pythonEnv-09496ab9-f6b6-4f29-97ac-ba837dabb231/lib/python3.10/site-packages (from openai) (1.3.1)\nRequirement already satisfied: pydantic<3,>=1.9.0 in /local_disk0/.ephemeral_nfs/envs/pythonEnv-09496ab9-f6b6-4f29-97ac-ba837dabb231/lib/python3.10/site-packages (from openai) (2.9.2)\nRequirement already satisfied: jiter<1,>=0.4.0 in /local_disk0/.ephemeral_nfs/envs/pythonEnv-09496ab9-f6b6-4f29-97ac-ba837dabb231/lib/python3.10/site-packages (from openai) (0.4.2)\nRequirement already satisfied: distro<2,>=1.7.0 in /usr/lib/python3/dist-packages (from openai) (1.7.0)\nRequirement already satisfied: anyio<5,>=3.5.0 in /databricks/python3/lib/python3.10/site-packages (from openai) (3.5.0)\nRequirement already satisfied: idna>=2.8 in /databricks/python3/lib/python3.10/site-packages (from anyio<5,>=3.5.0->openai) (3.4)\nRequirement already satisfied: httpcore==1.* in /local_disk0/.ephemeral_nfs/envs/pythonEnv-09496ab9-f6b6-4f29-97ac-ba837dabb231/lib/python3.10/site-packages (from httpx<1,>=0.23.0->openai) (1.0.5)\nRequirement already satisfied: certifi in /databricks/python3/lib/python3.10/site-packages (from httpx<1,>=0.23.0->openai) (2022.12.7)\nRequirement already satisfied: h11<0.15,>=0.13 in /local_disk0/.ephemeral_nfs/envs/pythonEnv-09496ab9-f6b6-4f29-97ac-ba837dabb231/lib/python3.10/site-packages (from httpcore==1.*->httpx<1,>=0.23.0->openai) (0.14.0)\nRequirement already satisfied: annotated-types>=0.6.0 in /local_disk0/.ephemeral_nfs/envs/pythonEnv-09496ab9-f6b6-4f29-97ac-ba837dabb231/lib/python3.10/site-packages (from pydantic<3,>=1.9.0->openai) (0.7.0)\nRequirement already satisfied: pydantic-core==2.23.4 in /local_disk0/.ephemeral_nfs/envs/pythonEnv-09496ab9-f6b6-4f29-97ac-ba837dabb231/lib/python3.10/site-packages (from pydantic<3,>=1.9.0->openai) (2.23.4)\n\u001B[43mNote: you may need to restart the kernel using %restart_python or dbutils.library.restartPython() to use updated packages.\u001B[0m\nRequirement already satisfied: crewai[tools] in /local_disk0/.ephemeral_nfs/envs/pythonEnv-09496ab9-f6b6-4f29-97ac-ba837dabb231/lib/python3.10/site-packages (0.61.0)\nRequirement already satisfied: auth0-python<5.0.0,>=4.7.1 in /local_disk0/.ephemeral_nfs/envs/pythonEnv-09496ab9-f6b6-4f29-97ac-ba837dabb231/lib/python3.10/site-packages (from crewai[tools]) (4.7.2)\nRequirement already satisfied: opentelemetry-exporter-otlp-proto-http<2.0.0,>=1.22.0 in /local_disk0/.ephemeral_nfs/envs/pythonEnv-09496ab9-f6b6-4f29-97ac-ba837dabb231/lib/python3.10/site-packages (from crewai[tools]) (1.27.0)\nRequirement already satisfied: litellm<2.0.0,>=1.44.22 in /local_disk0/.ephemeral_nfs/envs/pythonEnv-09496ab9-f6b6-4f29-97ac-ba837dabb231/lib/python3.10/site-packages (from crewai[tools]) (1.47.1)\nRequirement already satisfied: opentelemetry-api<2.0.0,>=1.22.0 in /local_disk0/.ephemeral_nfs/envs/pythonEnv-09496ab9-f6b6-4f29-97ac-ba837dabb231/lib/python3.10/site-packages (from crewai[tools]) (1.27.0)\nRequirement already satisfied: jsonref<2.0.0,>=1.1.0 in /local_disk0/.ephemeral_nfs/envs/pythonEnv-09496ab9-f6b6-4f29-97ac-ba837dabb231/lib/python3.10/site-packages (from crewai[tools]) (1.1.0)\nRequirement already satisfied: opentelemetry-sdk<2.0.0,>=1.22.0 in /local_disk0/.ephemeral_nfs/envs/pythonEnv-09496ab9-f6b6-4f29-97ac-ba837dabb231/lib/python3.10/site-packages (from crewai[tools]) (1.27.0)\nRequirement already satisfied: regex<2025.0.0,>=2024.9.11 in /local_disk0/.ephemeral_nfs/envs/pythonEnv-09496ab9-f6b6-4f29-97ac-ba837dabb231/lib/python3.10/site-packages (from crewai[tools]) (2024.9.11)\nRequirement already satisfied: embedchain<0.2.0,>=0.1.114 in /local_disk0/.ephemeral_nfs/envs/pythonEnv-09496ab9-f6b6-4f29-97ac-ba837dabb231/lib/python3.10/site-packages (from crewai[tools]) (0.1.121)\nRequirement already satisfied: appdirs<2.0.0,>=1.4.4 in /local_disk0/.ephemeral_nfs/envs/pythonEnv-09496ab9-f6b6-4f29-97ac-ba837dabb231/lib/python3.10/site-packages (from crewai[tools]) (1.4.4)\nRequirement already satisfied: python-dotenv<2.0.0,>=1.0.0 in /local_disk0/.ephemeral_nfs/envs/pythonEnv-09496ab9-f6b6-4f29-97ac-ba837dabb231/lib/python3.10/site-packages (from crewai[tools]) (1.0.1)\nRequirement already satisfied: pydantic<3.0.0,>=2.4.2 in /local_disk0/.ephemeral_nfs/envs/pythonEnv-09496ab9-f6b6-4f29-97ac-ba837dabb231/lib/python3.10/site-packages (from crewai[tools]) (2.9.2)\nRequirement already satisfied: json-repair<0.26.0,>=0.25.2 in /local_disk0/.ephemeral_nfs/envs/pythonEnv-09496ab9-f6b6-4f29-97ac-ba837dabb231/lib/python3.10/site-packages (from crewai[tools]) (0.25.3)\nRequirement already satisfied: poetry<2.0.0,>=1.8.3 in /local_disk0/.ephemeral_nfs/envs/pythonEnv-09496ab9-f6b6-4f29-97ac-ba837dabb231/lib/python3.10/site-packages (from crewai[tools]) (1.8.3)\nRequirement already satisfied: instructor==1.3.3 in /local_disk0/.ephemeral_nfs/envs/pythonEnv-09496ab9-f6b6-4f29-97ac-ba837dabb231/lib/python3.10/site-packages (from crewai[tools]) (1.3.3)\nRequirement already satisfied: langchain<0.3.0,>=0.2.16 in /local_disk0/.ephemeral_nfs/envs/pythonEnv-09496ab9-f6b6-4f29-97ac-ba837dabb231/lib/python3.10/site-packages (from crewai[tools]) (0.2.16)\nRequirement already satisfied: openai<2.0.0,>=1.13.3 in /local_disk0/.ephemeral_nfs/envs/pythonEnv-09496ab9-f6b6-4f29-97ac-ba837dabb231/lib/python3.10/site-packages (from crewai[tools]) (1.47.0)\nRequirement already satisfied: click<9.0.0,>=8.1.7 in /local_disk0/.ephemeral_nfs/envs/pythonEnv-09496ab9-f6b6-4f29-97ac-ba837dabb231/lib/python3.10/site-packages (from crewai[tools]) (8.1.7)\nRequirement already satisfied: crewai-tools<0.13.0,>=0.12.1 in /local_disk0/.ephemeral_nfs/envs/pythonEnv-09496ab9-f6b6-4f29-97ac-ba837dabb231/lib/python3.10/site-packages (from crewai[tools]) (0.12.1)\nRequirement already satisfied: tenacity<9.0.0,>=8.2.3 in /local_disk0/.ephemeral_nfs/envs/pythonEnv-09496ab9-f6b6-4f29-97ac-ba837dabb231/lib/python3.10/site-packages (from instructor==1.3.3->crewai[tools]) (8.5.0)\nRequirement already satisfied: aiohttp<4.0.0,>=3.9.1 in /local_disk0/.ephemeral_nfs/envs/pythonEnv-09496ab9-f6b6-4f29-97ac-ba837dabb231/lib/python3.10/site-packages (from instructor==1.3.3->crewai[tools]) (3.10.5)\nRequirement already satisfied: docstring-parser<0.17,>=0.16 in /local_disk0/.ephemeral_nfs/envs/pythonEnv-09496ab9-f6b6-4f29-97ac-ba837dabb231/lib/python3.10/site-packages (from instructor==1.3.3->crewai[tools]) (0.16)\nRequirement already satisfied: rich<14.0.0,>=13.7.0 in /local_disk0/.ephemeral_nfs/envs/pythonEnv-09496ab9-f6b6-4f29-97ac-ba837dabb231/lib/python3.10/site-packages (from instructor==1.3.3->crewai[tools]) (13.8.1)\nRequirement already satisfied: jiter<0.5.0,>=0.4.1 in /local_disk0/.ephemeral_nfs/envs/pythonEnv-09496ab9-f6b6-4f29-97ac-ba837dabb231/lib/python3.10/site-packages (from instructor==1.3.3->crewai[tools]) (0.4.2)\nRequirement already satisfied: pydantic-core<3.0.0,>=2.18.0 in /local_disk0/.ephemeral_nfs/envs/pythonEnv-09496ab9-f6b6-4f29-97ac-ba837dabb231/lib/python3.10/site-packages (from instructor==1.3.3->crewai[tools]) (2.23.4)\nRequirement already satisfied: typer<1.0.0,>=0.9.0 in /local_disk0/.ephemeral_nfs/envs/pythonEnv-09496ab9-f6b6-4f29-97ac-ba837dabb231/lib/python3.10/site-packages (from instructor==1.3.3->crewai[tools]) (0.12.5)\nRequirement already satisfied: pyjwt<3.0.0,>=2.8.0 in /local_disk0/.ephemeral_nfs/envs/pythonEnv-09496ab9-f6b6-4f29-97ac-ba837dabb231/lib/python3.10/site-packages (from auth0-python<5.0.0,>=4.7.1->crewai[tools]) (2.9.0)\nRequirement already satisfied: cryptography<44.0.0,>=43.0.1 in /local_disk0/.ephemeral_nfs/envs/pythonEnv-09496ab9-f6b6-4f29-97ac-ba837dabb231/lib/python3.10/site-packages (from auth0-python<5.0.0,>=4.7.1->crewai[tools]) (43.0.1)\nRequirement already satisfied: requests<3.0.0,>=2.31.0 in /local_disk0/.ephemeral_nfs/envs/pythonEnv-09496ab9-f6b6-4f29-97ac-ba837dabb231/lib/python3.10/site-packages (from auth0-python<5.0.0,>=4.7.1->crewai[tools]) (2.32.3)\nRequirement already satisfied: urllib3<3.0.0,>=2.0.7 in /local_disk0/.ephemeral_nfs/envs/pythonEnv-09496ab9-f6b6-4f29-97ac-ba837dabb231/lib/python3.10/site-packages (from auth0-python<5.0.0,>=4.7.1->crewai[tools]) (2.2.3)\nRequirement already satisfied: beautifulsoup4<5.0.0,>=4.12.3 in /local_disk0/.ephemeral_nfs/envs/pythonEnv-09496ab9-f6b6-4f29-97ac-ba837dabb231/lib/python3.10/site-packages (from crewai-tools<0.13.0,>=0.12.1->crewai[tools]) (4.12.3)\nRequirement already satisfied: pytube<16.0.0,>=15.0.0 in /local_disk0/.ephemeral_nfs/envs/pythonEnv-09496ab9-f6b6-4f29-97ac-ba837dabb231/lib/python3.10/site-packages (from crewai-tools<0.13.0,>=0.12.1->crewai[tools]) (15.0.0)\nRequirement already satisfied: docker<8.0.0,>=7.1.0 in /local_disk0/.ephemeral_nfs/envs/pythonEnv-09496ab9-f6b6-4f29-97ac-ba837dabb231/lib/python3.10/site-packages (from crewai-tools<0.13.0,>=0.12.1->crewai[tools]) (7.1.0)\nRequirement already satisfied: lancedb<0.6.0,>=0.5.4 in /local_disk0/.ephemeral_nfs/envs/pythonEnv-09496ab9-f6b6-4f29-97ac-ba837dabb231/lib/python3.10/site-packages (from crewai-tools<0.13.0,>=0.12.1->crewai[tools]) (0.5.7)\nRequirement already satisfied: pytest<9.0.0,>=8.0.0 in /local_disk0/.ephemeral_nfs/envs/pythonEnv-09496ab9-f6b6-4f29-97ac-ba837dabb231/lib/python3.10/site-packages (from crewai-tools<0.13.0,>=0.12.1->crewai[tools]) (8.3.3)\nRequirement already satisfied: chromadb<0.5.0,>=0.4.22 in /local_disk0/.ephemeral_nfs/envs/pythonEnv-09496ab9-f6b6-4f29-97ac-ba837dabb231/lib/python3.10/site-packages (from crewai-tools<0.13.0,>=0.12.1->crewai[tools]) (0.4.24)\nRequirement already satisfied: pyright<2.0.0,>=1.1.350 in /local_disk0/.ephemeral_nfs/envs/pythonEnv-09496ab9-f6b6-4f29-97ac-ba837dabb231/lib/python3.10/site-packages (from crewai-tools<0.13.0,>=0.12.1->crewai[tools]) (1.1.381)\nRequirement already satisfied: selenium<5.0.0,>=4.18.1 in /local_disk0/.ephemeral_nfs/envs/pythonEnv-09496ab9-f6b6-4f29-97ac-ba837dabb231/lib/python3.10/site-packages (from crewai-tools<0.13.0,>=0.12.1->crewai[tools]) (4.25.0)\nRequirement already satisfied: docx2txt<0.9,>=0.8 in /local_disk0/.ephemeral_nfs/envs/pythonEnv-09496ab9-f6b6-4f29-97ac-ba837dabb231/lib/python3.10/site-packages (from crewai-tools<0.13.0,>=0.12.1->crewai[tools]) (0.8)\nRequirement already satisfied: tiktoken<0.8.0,>=0.7.0 in /local_disk0/.ephemeral_nfs/envs/pythonEnv-09496ab9-f6b6-4f29-97ac-ba837dabb231/lib/python3.10/site-packages (from embedchain<0.2.0,>=0.1.114->crewai[tools]) (0.7.0)\nRequirement already satisfied: posthog<4.0.0,>=3.0.2 in /local_disk0/.ephemeral_nfs/envs/pythonEnv-09496ab9-f6b6-4f29-97ac-ba837dabb231/lib/python3.10/site-packages (from embedchain<0.2.0,>=0.1.114->crewai[tools]) (3.6.6)\nRequirement already satisfied: mem0ai<0.0.21,>=0.0.20 in /local_disk0/.ephemeral_nfs/envs/pythonEnv-09496ab9-f6b6-4f29-97ac-ba837dabb231/lib/python3.10/site-packages (from embedchain<0.2.0,>=0.1.114->crewai[tools]) (0.0.20)\nRequirement already satisfied: langchain-community<0.3.0,>=0.2.6 in /local_disk0/.ephemeral_nfs/envs/pythonEnv-09496ab9-f6b6-4f29-97ac-ba837dabb231/lib/python3.10/site-packages (from embedchain<0.2.0,>=0.1.114->crewai[tools]) (0.2.17)\nRequirement already satisfied: sqlalchemy<3.0.0,>=2.0.27 in /local_disk0/.ephemeral_nfs/envs/pythonEnv-09496ab9-f6b6-4f29-97ac-ba837dabb231/lib/python3.10/site-packages (from embedchain<0.2.0,>=0.1.114->crewai[tools]) (2.0.35)\nRequirement already satisfied: cohere<6.0,>=5.3 in /local_disk0/.ephemeral_nfs/envs/pythonEnv-09496ab9-f6b6-4f29-97ac-ba837dabb231/lib/python3.10/site-packages (from embedchain<0.2.0,>=0.1.114->crewai[tools]) (5.9.4)\nRequirement already satisfied: alembic<2.0.0,>=1.13.1 in /local_disk0/.ephemeral_nfs/envs/pythonEnv-09496ab9-f6b6-4f29-97ac-ba837dabb231/lib/python3.10/site-packages (from embedchain<0.2.0,>=0.1.114->crewai[tools]) (1.13.2)\nRequirement already satisfied: schema<0.8.0,>=0.7.5 in /local_disk0/.ephemeral_nfs/envs/pythonEnv-09496ab9-f6b6-4f29-97ac-ba837dabb231/lib/python3.10/site-packages (from embedchain<0.2.0,>=0.1.114->crewai[tools]) (0.7.7)\nRequirement already satisfied: google-cloud-aiplatform<2.0.0,>=1.26.1 in /local_disk0/.ephemeral_nfs/envs/pythonEnv-09496ab9-f6b6-4f29-97ac-ba837dabb231/lib/python3.10/site-packages (from embedchain<0.2.0,>=0.1.114->crewai[tools]) (1.67.1)\nRequirement already satisfied: langchain-openai<0.2.0,>=0.1.7 in /local_disk0/.ephemeral_nfs/envs/pythonEnv-09496ab9-f6b6-4f29-97ac-ba837dabb231/lib/python3.10/site-packages (from embedchain<0.2.0,>=0.1.114->crewai[tools]) (0.1.25)\nRequirement already satisfied: pypdf<5.0.0,>=4.0.1 in /local_disk0/.ephemeral_nfs/envs/pythonEnv-09496ab9-f6b6-4f29-97ac-ba837dabb231/lib/python3.10/site-packages (from embedchain<0.2.0,>=0.1.114->crewai[tools]) (4.3.1)\nRequirement already satisfied: gptcache<0.2.0,>=0.1.43 in /local_disk0/.ephemeral_nfs/envs/pythonEnv-09496ab9-f6b6-4f29-97ac-ba837dabb231/lib/python3.10/site-packages (from embedchain<0.2.0,>=0.1.114->crewai[tools]) (0.1.44)\nRequirement already satisfied: pysbd<0.4.0,>=0.3.4 in /local_disk0/.ephemeral_nfs/envs/pythonEnv-09496ab9-f6b6-4f29-97ac-ba837dabb231/lib/python3.10/\n\n*** WARNING: max output size exceeded, skipping output. ***\n\nn /local_disk0/.ephemeral_nfs/envs/pythonEnv-09496ab9-f6b6-4f29-97ac-ba837dabb231/lib/python3.10/site-packages (from boto3<2.0.0,>=1.34.0->cohere<6.0,>=5.3->embedchain<0.2.0,>=0.1.114->crewai[tools]) (0.10.2)\nRequirement already satisfied: pycparser in /databricks/python3/lib/python3.10/site-packages (from cffi>=1.12->cryptography<44.0.0,>=43.0.1->auth0-python<5.0.0,>=4.7.1->crewai[tools]) (2.21)\nRequirement already satisfied: marshmallow<4.0.0,>=3.18.0 in /local_disk0/.ephemeral_nfs/envs/pythonEnv-09496ab9-f6b6-4f29-97ac-ba837dabb231/lib/python3.10/site-packages (from dataclasses-json<0.7,>=0.5.7->langchain-community<0.3.0,>=0.2.6->embedchain<0.2.0,>=0.1.114->crewai[tools]) (3.22.0)\nRequirement already satisfied: typing-inspect<1,>=0.4.0 in /local_disk0/.ephemeral_nfs/envs/pythonEnv-09496ab9-f6b6-4f29-97ac-ba837dabb231/lib/python3.10/site-packages (from dataclasses-json<0.7,>=0.5.7->langchain-community<0.3.0,>=0.2.6->embedchain<0.2.0,>=0.1.114->crewai[tools]) (0.9.0)\nRequirement already satisfied: starlette<0.39.0,>=0.37.2 in /local_disk0/.ephemeral_nfs/envs/pythonEnv-09496ab9-f6b6-4f29-97ac-ba837dabb231/lib/python3.10/site-packages (from fastapi>=0.95.2->chromadb<0.5.0,>=0.4.22->crewai-tools<0.13.0,>=0.12.1->crewai[tools]) (0.38.5)\nRequirement already satisfied: grpcio-status<2.0.dev0,>=1.33.2 in /databricks/python3/lib/python3.10/site-packages (from google-api-core[grpc]!=2.0.*,!=2.1.*,!=2.2.*,!=2.3.*,!=2.4.*,!=2.5.*,!=2.6.*,!=2.7.*,<3.0.0dev,>=1.34.1->google-cloud-aiplatform<2.0.0,>=1.26.1->embedchain<0.2.0,>=0.1.114->crewai[tools]) (1.62.0)\nRequirement already satisfied: pyasn1-modules>=0.2.1 in /databricks/python3/lib/python3.10/site-packages (from google-auth<3.0.0dev,>=2.14.1->google-cloud-aiplatform<2.0.0,>=1.26.1->embedchain<0.2.0,>=0.1.114->crewai[tools]) (0.3.0)\nRequirement already satisfied: rsa<5,>=3.1.4 in /databricks/python3/lib/python3.10/site-packages (from google-auth<3.0.0dev,>=2.14.1->google-cloud-aiplatform<2.0.0,>=1.26.1->embedchain<0.2.0,>=0.1.114->crewai[tools]) (4.9)\nRequirement already satisfied: google-resumable-media<3.0dev,>=0.6.0 in /local_disk0/.ephemeral_nfs/envs/pythonEnv-09496ab9-f6b6-4f29-97ac-ba837dabb231/lib/python3.10/site-packages (from google-cloud-bigquery!=3.20.0,<4.0.0dev,>=1.15.0->google-cloud-aiplatform<2.0.0,>=1.26.1->embedchain<0.2.0,>=0.1.114->crewai[tools]) (2.7.2)\nRequirement already satisfied: google-cloud-core<3.0.0dev,>=1.6.0 in /local_disk0/.ephemeral_nfs/envs/pythonEnv-09496ab9-f6b6-4f29-97ac-ba837dabb231/lib/python3.10/site-packages (from google-cloud-bigquery!=3.20.0,<4.0.0dev,>=1.15.0->google-cloud-aiplatform<2.0.0,>=1.26.1->embedchain<0.2.0,>=0.1.114->crewai[tools]) (2.4.1)\nRequirement already satisfied: grpc-google-iam-v1<1.0.0dev,>=0.12.4 in /local_disk0/.ephemeral_nfs/envs/pythonEnv-09496ab9-f6b6-4f29-97ac-ba837dabb231/lib/python3.10/site-packages (from google-cloud-resource-manager<3.0.0dev,>=1.3.3->google-cloud-aiplatform<2.0.0,>=1.26.1->embedchain<0.2.0,>=0.1.114->crewai[tools]) (0.13.1)\nRequirement already satisfied: google-crc32c<2.0dev,>=1.0 in /local_disk0/.ephemeral_nfs/envs/pythonEnv-09496ab9-f6b6-4f29-97ac-ba837dabb231/lib/python3.10/site-packages (from google-cloud-storage<3.0.0dev,>=1.32.0->google-cloud-aiplatform<2.0.0,>=1.26.1->embedchain<0.2.0,>=0.1.114->crewai[tools]) (1.6.0)\nRequirement already satisfied: fsspec>=2023.5.0 in /local_disk0/.ephemeral_nfs/envs/pythonEnv-09496ab9-f6b6-4f29-97ac-ba837dabb231/lib/python3.10/site-packages (from huggingface-hub<1.0,>=0.16.4->tokenizers->litellm<2.0.0,>=1.44.22->crewai[tools]) (2024.6.1)\nRequirement already satisfied: jsonpointer>=1.9 in /local_disk0/.ephemeral_nfs/envs/pythonEnv-09496ab9-f6b6-4f29-97ac-ba837dabb231/lib/python3.10/site-packages (from jsonpatch<2.0,>=1.33->langchain-core<0.3.0,>=0.2.38->langchain<0.3.0,>=0.2.16->crewai[tools]) (3.0.0)\nRequirement already satisfied: oauthlib>=3.2.2 in /local_disk0/.ephemeral_nfs/envs/pythonEnv-09496ab9-f6b6-4f29-97ac-ba837dabb231/lib/python3.10/site-packages (from kubernetes>=28.1.0->chromadb<0.5.0,>=0.4.22->crewai-tools<0.13.0,>=0.12.1->crewai[tools]) (3.2.2)\nRequirement already satisfied: durationpy>=0.7 in /local_disk0/.ephemeral_nfs/envs/pythonEnv-09496ab9-f6b6-4f29-97ac-ba837dabb231/lib/python3.10/site-packages (from kubernetes>=28.1.0->chromadb<0.5.0,>=0.4.22->crewai-tools<0.13.0,>=0.12.1->crewai[tools]) (0.7)\nRequirement already satisfied: requests-oauthlib in /local_disk0/.ephemeral_nfs/envs/pythonEnv-09496ab9-f6b6-4f29-97ac-ba837dabb231/lib/python3.10/site-packages (from kubernetes>=28.1.0->chromadb<0.5.0,>=0.4.22->crewai-tools<0.13.0,>=0.12.1->crewai[tools]) (2.0.0)\nRequirement already satisfied: mdurl~=0.1 in /local_disk0/.ephemeral_nfs/envs/pythonEnv-09496ab9-f6b6-4f29-97ac-ba837dabb231/lib/python3.10/site-packages (from markdown-it-py>=2.2.0->rich<14.0.0,>=13.7.0->instructor==1.3.3->crewai[tools]) (0.1.2)\nRequirement already satisfied: setuptools in /databricks/python3/lib/python3.10/site-packages (from nodeenv>=1.6.0->pyright<2.0.0,>=1.1.350->crewai-tools<0.13.0,>=0.12.1->crewai[tools]) (65.6.3)\nRequirement already satisfied: flatbuffers in /local_disk0/.ephemeral_nfs/envs/pythonEnv-09496ab9-f6b6-4f29-97ac-ba837dabb231/lib/python3.10/site-packages (from onnxruntime>=1.14.1->chromadb<0.5.0,>=0.4.22->crewai-tools<0.13.0,>=0.12.1->crewai[tools]) (24.3.25)\nRequirement already satisfied: sympy in /local_disk0/.ephemeral_nfs/envs/pythonEnv-09496ab9-f6b6-4f29-97ac-ba837dabb231/lib/python3.10/site-packages (from onnxruntime>=1.14.1->chromadb<0.5.0,>=0.4.22->crewai-tools<0.13.0,>=0.12.1->crewai[tools]) (1.13.3)\nRequirement already satisfied: coloredlogs in /local_disk0/.ephemeral_nfs/envs/pythonEnv-09496ab9-f6b6-4f29-97ac-ba837dabb231/lib/python3.10/site-packages (from onnxruntime>=1.14.1->chromadb<0.5.0,>=0.4.22->crewai-tools<0.13.0,>=0.12.1->crewai[tools]) (15.0.1)\nRequirement already satisfied: opentelemetry-util-http==0.48b0 in /local_disk0/.ephemeral_nfs/envs/pythonEnv-09496ab9-f6b6-4f29-97ac-ba837dabb231/lib/python3.10/site-packages (from opentelemetry-instrumentation-fastapi>=0.41b0->chromadb<0.5.0,>=0.4.22->crewai-tools<0.13.0,>=0.12.1->crewai[tools]) (0.48b0)\nRequirement already satisfied: opentelemetry-instrumentation==0.48b0 in /local_disk0/.ephemeral_nfs/envs/pythonEnv-09496ab9-f6b6-4f29-97ac-ba837dabb231/lib/python3.10/site-packages (from opentelemetry-instrumentation-fastapi>=0.41b0->chromadb<0.5.0,>=0.4.22->crewai-tools<0.13.0,>=0.12.1->crewai[tools]) (0.48b0)\nRequirement already satisfied: opentelemetry-instrumentation-asgi==0.48b0 in /local_disk0/.ephemeral_nfs/envs/pythonEnv-09496ab9-f6b6-4f29-97ac-ba837dabb231/lib/python3.10/site-packages (from opentelemetry-instrumentation-fastapi>=0.41b0->chromadb<0.5.0,>=0.4.22->crewai-tools<0.13.0,>=0.12.1->crewai[tools]) (0.48b0)\nRequirement already satisfied: asgiref~=3.0 in /local_disk0/.ephemeral_nfs/envs/pythonEnv-09496ab9-f6b6-4f29-97ac-ba837dabb231/lib/python3.10/site-packages (from opentelemetry-instrumentation-asgi==0.48b0->opentelemetry-instrumentation-fastapi>=0.41b0->chromadb<0.5.0,>=0.4.22->crewai-tools<0.13.0,>=0.12.1->crewai[tools]) (3.8.1)\nRequirement already satisfied: portalocker<3.0.0,>=2.7.0 in /local_disk0/.ephemeral_nfs/envs/pythonEnv-09496ab9-f6b6-4f29-97ac-ba837dabb231/lib/python3.10/site-packages (from qdrant-client<2.0.0,>=1.9.1->mem0ai<0.0.21,>=0.0.20->embedchain<0.2.0,>=0.1.114->crewai[tools]) (2.10.1)\nRequirement already satisfied: grpcio-tools>=1.41.0 in /local_disk0/.ephemeral_nfs/envs/pythonEnv-09496ab9-f6b6-4f29-97ac-ba837dabb231/lib/python3.10/site-packages (from qdrant-client<2.0.0,>=1.9.1->mem0ai<0.0.21,>=0.0.20->embedchain<0.2.0,>=0.1.114->crewai[tools]) (1.62.3)\nRequirement already satisfied: py<2.0.0,>=1.4.26 in /local_disk0/.ephemeral_nfs/envs/pythonEnv-09496ab9-f6b6-4f29-97ac-ba837dabb231/lib/python3.10/site-packages (from retry>=0.9.2->lancedb<0.6.0,>=0.5.4->crewai-tools<0.13.0,>=0.12.1->crewai[tools]) (1.11.0)\nRequirement already satisfied: decorator>=3.4.2 in /databricks/python3/lib/python3.10/site-packages (from retry>=0.9.2->lancedb<0.6.0,>=0.5.4->crewai-tools<0.13.0,>=0.12.1->crewai[tools]) (5.1.1)\nRequirement already satisfied: sortedcontainers in /local_disk0/.ephemeral_nfs/envs/pythonEnv-09496ab9-f6b6-4f29-97ac-ba837dabb231/lib/python3.10/site-packages (from trio~=0.17->selenium<5.0.0,>=4.18.1->crewai-tools<0.13.0,>=0.12.1->crewai[tools]) (2.4.0)\nRequirement already satisfied: outcome in /local_disk0/.ephemeral_nfs/envs/pythonEnv-09496ab9-f6b6-4f29-97ac-ba837dabb231/lib/python3.10/site-packages (from trio~=0.17->selenium<5.0.0,>=4.18.1->crewai-tools<0.13.0,>=0.12.1->crewai[tools]) (1.3.0.post0)\nRequirement already satisfied: wsproto>=0.14 in /local_disk0/.ephemeral_nfs/envs/pythonEnv-09496ab9-f6b6-4f29-97ac-ba837dabb231/lib/python3.10/site-packages (from trio-websocket~=0.9->selenium<5.0.0,>=4.18.1->crewai-tools<0.13.0,>=0.12.1->crewai[tools]) (1.2.0)\nRequirement already satisfied: pysocks!=1.5.7,<2.0,>=1.5.6 in /local_disk0/.ephemeral_nfs/envs/pythonEnv-09496ab9-f6b6-4f29-97ac-ba837dabb231/lib/python3.10/site-packages (from urllib3<3.0.0,>=2.0.7->auth0-python<5.0.0,>=4.7.1->crewai[tools]) (1.7.1)\nRequirement already satisfied: httptools>=0.5.0 in /local_disk0/.ephemeral_nfs/envs/pythonEnv-09496ab9-f6b6-4f29-97ac-ba837dabb231/lib/python3.10/site-packages (from uvicorn[standard]>=0.18.3->chromadb<0.5.0,>=0.4.22->crewai-tools<0.13.0,>=0.12.1->crewai[tools]) (0.6.1)\nRequirement already satisfied: websockets>=10.4 in /local_disk0/.ephemeral_nfs/envs/pythonEnv-09496ab9-f6b6-4f29-97ac-ba837dabb231/lib/python3.10/site-packages (from uvicorn[standard]>=0.18.3->chromadb<0.5.0,>=0.4.22->crewai-tools<0.13.0,>=0.12.1->crewai[tools]) (13.1)\nRequirement already satisfied: uvloop!=0.15.0,!=0.15.1,>=0.14.0 in /local_disk0/.ephemeral_nfs/envs/pythonEnv-09496ab9-f6b6-4f29-97ac-ba837dabb231/lib/python3.10/site-packages (from uvicorn[standard]>=0.18.3->chromadb<0.5.0,>=0.4.22->crewai-tools<0.13.0,>=0.12.1->crewai[tools]) (0.20.0)\nRequirement already satisfied: watchfiles>=0.13 in /local_disk0/.ephemeral_nfs/envs/pythonEnv-09496ab9-f6b6-4f29-97ac-ba837dabb231/lib/python3.10/site-packages (from uvicorn[standard]>=0.18.3->chromadb<0.5.0,>=0.4.22->crewai-tools<0.13.0,>=0.12.1->crewai[tools]) (0.24.0)\nRequirement already satisfied: more-itertools in /usr/lib/python3/dist-packages (from jaraco.classes->keyring<25.0.0,>=24.0.0->poetry<2.0.0,>=1.8.3->crewai[tools]) (8.10.0)\nRequirement already satisfied: h2<5,>=3 in /local_disk0/.ephemeral_nfs/envs/pythonEnv-09496ab9-f6b6-4f29-97ac-ba837dabb231/lib/python3.10/site-packages (from httpx<1,>=0.23.0->openai<2.0.0,>=1.13.3->crewai[tools]) (4.1.0)\nRequirement already satisfied: pyasn1<0.6.0,>=0.4.6 in /databricks/python3/lib/python3.10/site-packages (from pyasn1-modules>=0.2.1->google-auth<3.0.0dev,>=2.14.1->google-cloud-aiplatform<2.0.0,>=1.26.1->embedchain<0.2.0,>=0.1.114->crewai[tools]) (0.5.1)\nRequirement already satisfied: mypy-extensions>=0.3.0 in /databricks/python3/lib/python3.10/site-packages (from typing-inspect<1,>=0.4.0->dataclasses-json<0.7,>=0.5.7->langchain-community<0.3.0,>=0.2.6->embedchain<0.2.0,>=0.1.114->crewai[tools]) (0.4.3)\nRequirement already satisfied: humanfriendly>=9.1 in /local_disk0/.ephemeral_nfs/envs/pythonEnv-09496ab9-f6b6-4f29-97ac-ba837dabb231/lib/python3.10/site-packages (from coloredlogs->onnxruntime>=1.14.1->chromadb<0.5.0,>=0.4.22->crewai-tools<0.13.0,>=0.12.1->crewai[tools]) (10.0)\nRequirement already satisfied: mpmath<1.4,>=1.1.0 in /local_disk0/.ephemeral_nfs/envs/pythonEnv-09496ab9-f6b6-4f29-97ac-ba837dabb231/lib/python3.10/site-packages (from sympy->onnxruntime>=1.14.1->chromadb<0.5.0,>=0.4.22->crewai-tools<0.13.0,>=0.12.1->crewai[tools]) (1.3.0)\nRequirement already satisfied: hyperframe<7,>=6.0 in /local_disk0/.ephemeral_nfs/envs/pythonEnv-09496ab9-f6b6-4f29-97ac-ba837dabb231/lib/python3.10/site-packages (from h2<5,>=3->httpx<1,>=0.23.0->openai<2.0.0,>=1.13.3->crewai[tools]) (6.0.1)\nRequirement already satisfied: hpack<5,>=4.0 in /local_disk0/.ephemeral_nfs/envs/pythonEnv-09496ab9-f6b6-4f29-97ac-ba837dabb231/lib/python3.10/site-packages (from h2<5,>=3->httpx<1,>=0.23.0->openai<2.0.0,>=1.13.3->crewai[tools]) (4.0.0)\n\u001B[43mNote: you may need to restart the kernel using %restart_python or dbutils.library.restartPython() to use updated packages.\u001B[0m\nRequirement already satisfied: rich in /local_disk0/.ephemeral_nfs/envs/pythonEnv-09496ab9-f6b6-4f29-97ac-ba837dabb231/lib/python3.10/site-packages (13.8.1)\nRequirement already satisfied: pygments<3.0.0,>=2.13.0 in /local_disk0/.ephemeral_nfs/envs/pythonEnv-09496ab9-f6b6-4f29-97ac-ba837dabb231/lib/python3.10/site-packages (from rich) (2.18.0)\nRequirement already satisfied: markdown-it-py>=2.2.0 in /local_disk0/.ephemeral_nfs/envs/pythonEnv-09496ab9-f6b6-4f29-97ac-ba837dabb231/lib/python3.10/site-packages (from rich) (3.0.0)\nRequirement already satisfied: mdurl~=0.1 in /local_disk0/.ephemeral_nfs/envs/pythonEnv-09496ab9-f6b6-4f29-97ac-ba837dabb231/lib/python3.10/site-packages (from markdown-it-py>=2.2.0->rich) (0.1.2)\n\u001B[43mNote: you may need to restart the kernel using %restart_python or dbutils.library.restartPython() to use updated packages.\u001B[0m\nRequirement already satisfied: duckduckgo-search in /local_disk0/.ephemeral_nfs/envs/pythonEnv-09496ab9-f6b6-4f29-97ac-ba837dabb231/lib/python3.10/site-packages (6.2.12)\nRequirement already satisfied: langchain-community in /local_disk0/.ephemeral_nfs/envs/pythonEnv-09496ab9-f6b6-4f29-97ac-ba837dabb231/lib/python3.10/site-packages (0.2.17)\nRequirement already satisfied: click>=8.1.7 in /local_disk0/.ephemeral_nfs/envs/pythonEnv-09496ab9-f6b6-4f29-97ac-ba837dabb231/lib/python3.10/site-packages (from duckduckgo-search) (8.1.7)\nRequirement already satisfied: primp>=0.6.2 in /local_disk0/.ephemeral_nfs/envs/pythonEnv-09496ab9-f6b6-4f29-97ac-ba837dabb231/lib/python3.10/site-packages (from duckduckgo-search) (0.6.2)\nRequirement already satisfied: langsmith<0.2.0,>=0.1.112 in /local_disk0/.ephemeral_nfs/envs/pythonEnv-09496ab9-f6b6-4f29-97ac-ba837dabb231/lib/python3.10/site-packages (from langchain-community) (0.1.125)\nRequirement already satisfied: tenacity!=8.4.0,<9.0.0,>=8.1.0 in /local_disk0/.ephemeral_nfs/envs/pythonEnv-09496ab9-f6b6-4f29-97ac-ba837dabb231/lib/python3.10/site-packages (from langchain-community) (8.5.0)\nRequirement already satisfied: PyYAML>=5.3 in /local_disk0/.ephemeral_nfs/envs/pythonEnv-09496ab9-f6b6-4f29-97ac-ba837dabb231/lib/python3.10/site-packages (from langchain-community) (6.0.2)\nRequirement already satisfied: SQLAlchemy<3,>=1.4 in /local_disk0/.ephemeral_nfs/envs/pythonEnv-09496ab9-f6b6-4f29-97ac-ba837dabb231/lib/python3.10/site-packages (from langchain-community) (2.0.35)\nRequirement already satisfied: aiohttp<4.0.0,>=3.8.3 in /local_disk0/.ephemeral_nfs/envs/pythonEnv-09496ab9-f6b6-4f29-97ac-ba837dabb231/lib/python3.10/site-packages (from langchain-community) (3.10.5)\nRequirement already satisfied: requests<3,>=2 in /local_disk0/.ephemeral_nfs/envs/pythonEnv-09496ab9-f6b6-4f29-97ac-ba837dabb231/lib/python3.10/site-packages (from langchain-community) (2.32.3)\nRequirement already satisfied: dataclasses-json<0.7,>=0.5.7 in /local_disk0/.ephemeral_nfs/envs/pythonEnv-09496ab9-f6b6-4f29-97ac-ba837dabb231/lib/python3.10/site-packages (from langchain-community) (0.6.7)\nRequirement already satisfied: langchain-core<0.3.0,>=0.2.39 in /local_disk0/.ephemeral_nfs/envs/pythonEnv-09496ab9-f6b6-4f29-97ac-ba837dabb231/lib/python3.10/site-packages (from langchain-community) (0.2.41)\nRequirement already satisfied: numpy<2,>=1 in /local_disk0/.ephemeral_nfs/envs/pythonEnv-09496ab9-f6b6-4f29-97ac-ba837dabb231/lib/python3.10/site-packages (from langchain-community) (1.26.4)\nRequirement already satisfied: langchain<0.3.0,>=0.2.16 in /local_disk0/.ephemeral_nfs/envs/pythonEnv-09496ab9-f6b6-4f29-97ac-ba837dabb231/lib/python3.10/site-packages (from langchain-community) (0.2.16)\nRequirement already satisfied: yarl<2.0,>=1.0 in /local_disk0/.ephemeral_nfs/envs/pythonEnv-09496ab9-f6b6-4f29-97ac-ba837dabb231/lib/python3.10/site-packages (from aiohttp<4.0.0,>=3.8.3->langchain-community) (1.11.1)\nRequirement already satisfied: aiohappyeyeballs>=2.3.0 in /local_disk0/.ephemeral_nfs/envs/pythonEnv-09496ab9-f6b6-4f29-97ac-ba837dabb231/lib/python3.10/site-packages (from aiohttp<4.0.0,>=3.8.3->langchain-community) (2.4.0)\nRequirement already satisfied: async-timeout<5.0,>=4.0 in /local_disk0/.ephemeral_nfs/envs/pythonEnv-09496ab9-f6b6-4f29-97ac-ba837dabb231/lib/python3.10/site-packages (from aiohttp<4.0.0,>=3.8.3->langchain-community) (4.0.3)\nRequirement already satisfied: multidict<7.0,>=4.5 in /local_disk0/.ephemeral_nfs/envs/pythonEnv-09496ab9-f6b6-4f29-97ac-ba837dabb231/lib/python3.10/site-packages (from aiohttp<4.0.0,>=3.8.3->langchain-community) (6.1.0)\nRequirement already satisfied: attrs>=17.3.0 in /local_disk0/.ephemeral_nfs/envs/pythonEnv-09496ab9-f6b6-4f29-97ac-ba837dabb231/lib/python3.10/site-packages (from aiohttp<4.0.0,>=3.8.3->langchain-community) (24.2.0)\nRequirement already satisfied: frozenlist>=1.1.1 in /local_disk0/.ephemeral_nfs/envs/pythonEnv-09496ab9-f6b6-4f29-97ac-ba837dabb231/lib/python3.10/site-packages (from aiohttp<4.0.0,>=3.8.3->langchain-community) (1.4.1)\nRequirement already satisfied: aiosignal>=1.1.2 in /local_disk0/.ephemeral_nfs/envs/pythonEnv-09496ab9-f6b6-4f29-97ac-ba837dabb231/lib/python3.10/site-packages (from aiohttp<4.0.0,>=3.8.3->langchain-community) (1.3.1)\nRequirement already satisfied: typing-inspect<1,>=0.4.0 in /local_disk0/.ephemeral_nfs/envs/pythonEnv-09496ab9-f6b6-4f29-97ac-ba837dabb231/lib/python3.10/site-packages (from dataclasses-json<0.7,>=0.5.7->langchain-community) (0.9.0)\nRequirement already satisfied: marshmallow<4.0.0,>=3.18.0 in /local_disk0/.ephemeral_nfs/envs/pythonEnv-09496ab9-f6b6-4f29-97ac-ba837dabb231/lib/python3.10/site-packages (from dataclasses-json<0.7,>=0.5.7->langchain-community) (3.22.0)\nRequirement already satisfied: langchain-text-splitters<0.3.0,>=0.2.0 in /local_disk0/.ephemeral_nfs/envs/pythonEnv-09496ab9-f6b6-4f29-97ac-ba837dabb231/lib/python3.10/site-packages (from langchain<0.3.0,>=0.2.16->langchain-community) (0.2.4)\nRequirement already satisfied: pydantic<3,>=1 in /local_disk0/.ephemeral_nfs/envs/pythonEnv-09496ab9-f6b6-4f29-97ac-ba837dabb231/lib/python3.10/site-packages (from langchain<0.3.0,>=0.2.16->langchain-community) (2.9.2)\nRequirement already satisfied: packaging<25,>=23.2 in /databricks/python3/lib/python3.10/site-packages (from langchain-core<0.3.0,>=0.2.39->langchain-community) (23.2)\nRequirement already satisfied: typing-extensions>=4.7 in /local_disk0/.ephemeral_nfs/envs/pythonEnv-09496ab9-f6b6-4f29-97ac-ba837dabb231/lib/python3.10/site-packages (from langchain-core<0.3.0,>=0.2.39->langchain-community) (4.12.2)\nRequirement already satisfied: jsonpatch<2.0,>=1.33 in /local_disk0/.ephemeral_nfs/envs/pythonEnv-09496ab9-f6b6-4f29-97ac-ba837dabb231/lib/python3.10/site-packages (from langchain-core<0.3.0,>=0.2.39->langchain-community) (1.33)\nRequirement already satisfied: orjson<4.0.0,>=3.9.14 in /local_disk0/.ephemeral_nfs/envs/pythonEnv-09496ab9-f6b6-4f29-97ac-ba837dabb231/lib/python3.10/site-packages (from langsmith<0.2.0,>=0.1.112->langchain-community) (3.10.7)\nRequirement already satisfied: httpx<1,>=0.23.0 in /local_disk0/.ephemeral_nfs/envs/pythonEnv-09496ab9-f6b6-4f29-97ac-ba837dabb231/lib/python3.10/site-packages (from langsmith<0.2.0,>=0.1.112->langchain-community) (0.27.2)\nRequirement already satisfied: charset-normalizer<4,>=2 in /databricks/python3/lib/python3.10/site-packages (from requests<3,>=2->langchain-community) (2.0.4)\nRequirement already satisfied: urllib3<3,>=1.21.1 in /local_disk0/.ephemeral_nfs/envs/pythonEnv-09496ab9-f6b6-4f29-97ac-ba837dabb231/lib/python3.10/site-packages (from requests<3,>=2->langchain-community) (2.2.3)\nRequirement already satisfied: idna<4,>=2.5 in /databricks/python3/lib/python3.10/site-packages (from requests<3,>=2->langchain-community) (3.4)\nRequirement already satisfied: certifi>=2017.4.17 in /databricks/python3/lib/python3.10/site-packages (from requests<3,>=2->langchain-community) (2022.12.7)\nRequirement already satisfied: greenlet!=0.4.17 in /local_disk0/.ephemeral_nfs/envs/pythonEnv-09496ab9-f6b6-4f29-97ac-ba837dabb231/lib/python3.10/site-packages (from SQLAlchemy<3,>=1.4->langchain-community) (3.1.1)\nRequirement already satisfied: sniffio in /local_disk0/.ephemeral_nfs/envs/pythonEnv-09496ab9-f6b6-4f29-97ac-ba837dabb231/lib/python3.10/site-packages (from httpx<1,>=0.23.0->langsmith<0.2.0,>=0.1.112->langchain-community) (1.3.1)\nRequirement already satisfied: anyio in /databricks/python3/lib/python3.10/site-packages (from httpx<1,>=0.23.0->langsmith<0.2.0,>=0.1.112->langchain-community) (3.5.0)\nRequirement already satisfied: httpcore==1.* in /local_disk0/.ephemeral_nfs/envs/pythonEnv-09496ab9-f6b6-4f29-97ac-ba837dabb231/lib/python3.10/site-packages (from httpx<1,>=0.23.0->langsmith<0.2.0,>=0.1.112->langchain-community) (1.0.5)\nRequirement already satisfied: h11<0.15,>=0.13 in /local_disk0/.ephemeral_nfs/envs/pythonEnv-09496ab9-f6b6-4f29-97ac-ba837dabb231/lib/python3.10/site-packages (from httpcore==1.*->httpx<1,>=0.23.0->langsmith<0.2.0,>=0.1.112->langchain-community) (0.14.0)\nRequirement already satisfied: jsonpointer>=1.9 in /local_disk0/.ephemeral_nfs/envs/pythonEnv-09496ab9-f6b6-4f29-97ac-ba837dabb231/lib/python3.10/site-packages (from jsonpatch<2.0,>=1.33->langchain-core<0.3.0,>=0.2.39->langchain-community) (3.0.0)\nRequirement already satisfied: annotated-types>=0.6.0 in /local_disk0/.ephemeral_nfs/envs/pythonEnv-09496ab9-f6b6-4f29-97ac-ba837dabb231/lib/python3.10/site-packages (from pydantic<3,>=1->langchain<0.3.0,>=0.2.16->langchain-community) (0.7.0)\nRequirement already satisfied: pydantic-core==2.23.4 in /local_disk0/.ephemeral_nfs/envs/pythonEnv-09496ab9-f6b6-4f29-97ac-ba837dabb231/lib/python3.10/site-packages (from pydantic<3,>=1->langchain<0.3.0,>=0.2.16->langchain-community) (2.23.4)\nRequirement already satisfied: mypy-extensions>=0.3.0 in /databricks/python3/lib/python3.10/site-packages (from typing-inspect<1,>=0.4.0->dataclasses-json<0.7,>=0.5.7->langchain-community) (0.4.3)\n\u001B[43mNote: you may need to restart the kernel using %restart_python or dbutils.library.restartPython() to use updated packages.\u001B[0m\nRequirement already satisfied: openai in /local_disk0/.ephemeral_nfs/envs/pythonEnv-09496ab9-f6b6-4f29-97ac-ba837dabb231/lib/python3.10/site-packages (1.47.0)\nRequirement already satisfied: anyio<5,>=3.5.0 in /databricks/python3/lib/python3.10/site-packages (from openai) (3.5.0)\nRequirement already satisfied: typing-extensions<5,>=4.11 in /local_disk0/.ephemeral_nfs/envs/pythonEnv-09496ab9-f6b6-4f29-97ac-ba837dabb231/lib/python3.10/site-packages (from openai) (4.12.2)\nRequirement already satisfied: pydantic<3,>=1.9.0 in /local_disk0/.ephemeral_nfs/envs/pythonEnv-09496ab9-f6b6-4f29-97ac-ba837dabb231/lib/python3.10/site-packages (from openai) (2.9.2)\nRequirement already satisfied: tqdm>4 in /local_disk0/.ephemeral_nfs/envs/pythonEnv-09496ab9-f6b6-4f29-97ac-ba837dabb231/lib/python3.10/site-packages (from openai) (4.66.5)\nRequirement already satisfied: jiter<1,>=0.4.0 in /local_disk0/.ephemeral_nfs/envs/pythonEnv-09496ab9-f6b6-4f29-97ac-ba837dabb231/lib/python3.10/site-packages (from openai) (0.4.2)\nRequirement already satisfied: httpx<1,>=0.23.0 in /local_disk0/.ephemeral_nfs/envs/pythonEnv-09496ab9-f6b6-4f29-97ac-ba837dabb231/lib/python3.10/site-packages (from openai) (0.27.2)\nRequirement already satisfied: sniffio in /local_disk0/.ephemeral_nfs/envs/pythonEnv-09496ab9-f6b6-4f29-97ac-ba837dabb231/lib/python3.10/site-packages (from openai) (1.3.1)\nRequirement already satisfied: distro<2,>=1.7.0 in /usr/lib/python3/dist-packages (from openai) (1.7.0)\nRequirement already satisfied: idna>=2.8 in /databricks/python3/lib/python3.10/site-packages (from anyio<5,>=3.5.0->openai) (3.4)\nRequirement already satisfied: certifi in /databricks/python3/lib/python3.10/site-packages (from httpx<1,>=0.23.0->openai) (2022.12.7)\nRequirement already satisfied: httpcore==1.* in /local_disk0/.ephemeral_nfs/envs/pythonEnv-09496ab9-f6b6-4f29-97ac-ba837dabb231/lib/python3.10/site-packages (from httpx<1,>=0.23.0->openai) (1.0.5)\nRequirement already satisfied: h11<0.15,>=0.13 in /local_disk0/.ephemeral_nfs/envs/pythonEnv-09496ab9-f6b6-4f29-97ac-ba837dabb231/lib/python3.10/site-packages (from httpcore==1.*->httpx<1,>=0.23.0->openai) (0.14.0)\nRequirement already satisfied: pydantic-core==2.23.4 in /local_disk0/.ephemeral_nfs/envs/pythonEnv-09496ab9-f6b6-4f29-97ac-ba837dabb231/lib/python3.10/site-packages (from pydantic<3,>=1.9.0->openai) (2.23.4)\nRequirement already satisfied: annotated-types>=0.6.0 in /local_disk0/.ephemeral_nfs/envs/pythonEnv-09496ab9-f6b6-4f29-97ac-ba837dabb231/lib/python3.10/site-packages (from pydantic<3,>=1.9.0->openai) (0.7.0)\n\u001B[43mNote: you may need to restart the kernel using %restart_python or dbutils.library.restartPython() to use updated packages.\u001B[0m\n"
     ]
    }
   ],
   "source": [
    "%pip install dspy-ai==2.4.10\n",
    "%pip install textstat\n",
    "%pip install --upgrade openai\n",
    "%pip install 'crewai[tools]'\n",
    "%pip install rich\n",
    "%pip install duckduckgo-search langchain-community\n",
    "%pip install --upgrade openai"
   ]
  },
  {
   "cell_type": "code",
   "execution_count": 0,
   "metadata": {
    "application/vnd.databricks.v1+cell": {
     "cellMetadata": {
      "byteLimit": 2048000,
      "rowLimit": 10000
     },
     "inputWidgets": {},
     "nuid": "cdf659ca-3fbc-442b-91a9-fdcb12d4b99d",
     "showTitle": false,
     "title": ""
    }
   },
   "outputs": [],
   "source": [
    "%restart_python"
   ]
  },
  {
   "cell_type": "code",
   "execution_count": 0,
   "metadata": {
    "application/vnd.databricks.v1+cell": {
     "cellMetadata": {
      "byteLimit": 2048000,
      "rowLimit": 10000
     },
     "inputWidgets": {},
     "nuid": "41a1fddd-7815-46f0-9d42-584f6df40b05",
     "showTitle": false,
     "title": ""
    }
   },
   "outputs": [],
   "source": [
    "import dspy\n",
    "API_BASE = \"https://adb-984752964297111.11.azuredatabricks.net/serving-endpoints\"\n",
    "API_KEY = dbutils.secrets.get(\"oetrta\",\"sg-aztoken\")\n",
    "external_model = dspy.Databricks(model='sg-external',model_type='chat', api_key = API_KEY, api_base = API_BASE,max_tokens=2000,temperature=0.7)\n",
    "dspy.configure(lm=external_model)"
   ]
  },
  {
   "cell_type": "code",
   "execution_count": 0,
   "metadata": {
    "application/vnd.databricks.v1+cell": {
     "cellMetadata": {
      "byteLimit": 2048000,
      "rowLimit": 10000
     },
     "inputWidgets": {},
     "nuid": "ec799d70-ccf3-4d20-9706-23d8dc237f45",
     "showTitle": false,
     "title": ""
    }
   },
   "outputs": [],
   "source": [
    "class SocialMediaPostGenerator(dspy.Signature):\n",
    "    \"\"\"You are a social media assistant who generates an engaging social media post with hashtags about the user's experience at the Databricks Data & AI World Tour 2024 (DAIWT) in Atlanta. This is a tech conference about Data and AI. Call out sessions where the local time overlaps with the user's post and assume that the user is one of the sessions if overlap happens between local time and session time. Each session is atleast 40 minutes. If there are multiple sessions that overlap, always choose AI sessions. If there are no AI sessions, choose based on current session.Give all posts a very positive spin to help it go viral. Ongoing sessions take priority, unless the user specifically calls out other sessions or topics\"\"\"\n",
    "    local_time = dspy.InputField()\n",
    "    user_post = dspy.InputField()\n",
    "    user_role = dspy.InputField(desc=\"User's role in the conference. Either attendee or organizer or presenter\")\n",
    "    agenda = dspy.InputField()\n",
    "    social_media_site = dspy.InputField()\n",
    "    rationale = dspy.OutputField(desc=\"Reasoning behind the post content and hashtags\")\n",
    "    current_session=dspy.OutputField(desc=\"Current session that the user could be in. If there isn't a match, return None\")\n",
    "    post = dspy.OutputField(desc=\"Engaging social media post with hashtags. Pay specific attention to any current session the user is in.This is the ongoing session.\")\n"
   ]
  },
  {
   "cell_type": "code",
   "execution_count": 0,
   "metadata": {
    "application/vnd.databricks.v1+cell": {
     "cellMetadata": {
      "byteLimit": 2048000,
      "rowLimit": 10000
     },
     "inputWidgets": {},
     "nuid": "11351529-0802-480a-abd8-0a27aeef9696",
     "showTitle": false,
     "title": ""
    }
   },
   "outputs": [],
   "source": [
    "class EngagingSocialMediaPost(dspy.Module):\n",
    "    def __init__(self):\n",
    "        super().__init__()\n",
    "        self.generator = dspy.ChainOfThought(SocialMediaPostGenerator)\n",
    "\n",
    "    def forward(self, local_time, user_post, user_role, agenda, social_media_site):\n",
    "        return self.generator(\n",
    "            local_time=local_time,\n",
    "            user_post=user_post,\n",
    "            user_role=user_role,\n",
    "            agenda=agenda,\n",
    "            social_media_site=social_media_site\n",
    "        )"
   ]
  },
  {
   "cell_type": "code",
   "execution_count": 0,
   "metadata": {
    "application/vnd.databricks.v1+cell": {
     "cellMetadata": {
      "byteLimit": 2048000,
      "rowLimit": 10000
     },
     "inputWidgets": {},
     "nuid": "892e0f23-cd01-4d7f-a890-0689f012efca",
     "showTitle": false,
     "title": ""
    }
   },
   "outputs": [],
   "source": [
    "import json\n",
    "with open(\"agenda.json\", \"r\") as file:\n",
    "    agenda = json.load(file)\n",
    "\n",
    "agenda = json.dumps(agenda)"
   ]
  },
  {
   "cell_type": "code",
   "execution_count": 0,
   "metadata": {
    "application/vnd.databricks.v1+cell": {
     "cellMetadata": {
      "byteLimit": 2048000,
      "rowLimit": 10000
     },
     "inputWidgets": {},
     "nuid": "696cefe6-6d9d-42df-af1d-f1a1a30575c5",
     "showTitle": false,
     "title": ""
    }
   },
   "outputs": [],
   "source": [
    "from datetime import datetime\n",
    "examples = [\n",
    "    dspy.Example(\n",
    "        local_time=\"09:30 AM\",\n",
    "        user_post=\"Excited for my presentation today!\",\n",
    "        user_role=\"presenter\",\n",
    "        agenda=agenda,\n",
    "        social_media_site=\"LinkedIn\",\n",
    "        rationale=\"The post should be professional and optimistic, highlighting the upcoming presentation. We'll use hashtags related to professional growth and presentations. The time suggests it's morning, so we can incorporate that.\",\n",
    "        post=\"Good morning, LinkedIn! ☀️ Kicking off a productive day with a team meeting, followed by an exciting client presentation this afternoon. Ready to showcase our latest innovations! #ProfessionalGrowth #ClientPresentation #InnovationInAction\"\n",
    "    ),\n",
    "    dspy.Example(\n",
    "        local_time=\"1:45 PM\",\n",
    "        user_post=\"Looking forward to my presentation!\",\n",
    "        user_role=\"presenter\",\n",
    "        agenda=agenda,\n",
    "        social_media_site=\"LinkedIn\",\n",
    "    rationale=\"The post should be professional yet engaging, suitable for Instagram. We'll focus on the upcoming presentation, incorporating the user's role as a presenter. The time suggests it's just before the presentation, so we'll emphasize preparation and excitement. We'll use relevant hashtags to increase visibility and engagement.\",\n",
    "    post=\"Pre-presentation butterflies! 🦋 Just 15 minutes until I take the stage to share our latest innovations with our valued clients. Months of hard work have led to this moment. Excited to showcase what our amazing team has accomplished! 💼✨ #ProfessionalGrowth #PublicSpeaking #InnovationPresentation #ReadyToInspire\")\n",
    "]\n",
    "\n",
    "# Create and compile the model\n",
    "post_generator = EngagingSocialMediaPost()\n",
    "post_generator.generator.demos = examples\n",
    "\n",
    "# Function to generate post\n",
    "def generate_social_media_post(local_time, user_post, user_role, agenda, social_media_site):\n",
    "    # results = []\n",
    "    result = post_generator(\n",
    "        local_time=local_time,\n",
    "        user_post=user_post,\n",
    "        user_role = user_role,\n",
    "        agenda=days_agenda,\n",
    "        social_media_site=social_media_site\n",
    "    )\n",
    "    # results.append(result)\n",
    "    return result\n",
    "\n"
   ]
  },
  {
   "cell_type": "code",
   "execution_count": 0,
   "metadata": {
    "application/vnd.databricks.v1+cell": {
     "cellMetadata": {
      "byteLimit": 2048000,
      "rowLimit": 10000
     },
     "inputWidgets": {},
     "nuid": "9817844d-8f1f-4b17-9a72-57cc18c12d21",
     "showTitle": false,
     "title": ""
    }
   },
   "outputs": [],
   "source": [
    "# Example usage\n",
    "# local_time = datetime.now().strftime(\"%I:%M %p\")\n",
    "local_time = \"2:10 PM EDT\"\n",
    "user_post = \"This is a great presentation on llmops! fun!\"\n",
    "user_role = \"attendee\"\n",
    "days_agenda = agenda\n",
    "social_media_site = \"LinkedIn\""
   ]
  },
  {
   "cell_type": "code",
   "execution_count": 0,
   "metadata": {
    "application/vnd.databricks.v1+cell": {
     "cellMetadata": {
      "byteLimit": 2048000,
      "rowLimit": 10000
     },
     "inputWidgets": {},
     "nuid": "8867c2dd-cb1b-4a27-be22-ab18642d17a6",
     "showTitle": false,
     "title": ""
    }
   },
   "outputs": [],
   "source": [
    "test = generate_social_media_post(local_time, user_post,user_role, days_agenda, social_media_site)"
   ]
  },
  {
   "cell_type": "code",
   "execution_count": 0,
   "metadata": {
    "application/vnd.databricks.v1+cell": {
     "cellMetadata": {
      "byteLimit": 2048000,
      "rowLimit": 10000
     },
     "inputWidgets": {},
     "nuid": "b1e6702c-a43d-4880-98c6-7e3f9c1bbccd",
     "showTitle": false,
     "title": ""
    }
   },
   "outputs": [
    {
     "output_type": "execute_result",
     "data": {
      "text/plain": [
       "\"Just wrapped up an insightful session on LLMOps! 🚀 The fascinating world of Large Language Model Operations is truly evolving, and I’m thrilled to learn about building composable AI systems with Databricks. It's amazing to see how these innovations are shaping the future of data and AI! 🌟 #DataAndAI #LLMOps #Innovation #TechConference #Databricks\\n\\n---\\n\\nFeel free to let me know if you need further assistance or another post!\""
      ]
     },
     "execution_count": 18,
     "metadata": {},
     "output_type": "execute_result"
    }
   ],
   "source": [
    "test.post"
   ]
  },
  {
   "cell_type": "code",
   "execution_count": 0,
   "metadata": {
    "application/vnd.databricks.v1+cell": {
     "cellMetadata": {
      "byteLimit": 2048000,
      "rowLimit": 10000
     },
     "inputWidgets": {},
     "nuid": "346f379e-4f29-4b7e-8dfd-d14de7c1e065",
     "showTitle": false,
     "title": ""
    }
   },
   "outputs": [
    {
     "output_type": "execute_result",
     "data": {
      "text/plain": [
       "\"Just wrapped up an insightful session on LLMOps! 🚀 The fascinating world of Large Language Model Operations is truly evolving, and I’m thrilled to learn about building composable AI systems with Databricks. It's amazing to see how these innovations are shaping the future of data and AI! 🌟 #DataAndAI #LLMOps #Innovation #TechConference #Databricks\""
      ]
     },
     "execution_count": 19,
     "metadata": {},
     "output_type": "execute_result"
    }
   ],
   "source": [
    "test.post.split('\\n')[0]"
   ]
  },
  {
   "cell_type": "code",
   "execution_count": 0,
   "metadata": {
    "application/vnd.databricks.v1+cell": {
     "cellMetadata": {
      "byteLimit": 2048000,
      "rowLimit": 10000
     },
     "inputWidgets": {},
     "nuid": "437129de-0fd3-4932-bdf5-a5161d3f6297",
     "showTitle": false,
     "title": ""
    }
   },
   "outputs": [],
   "source": [
    "import dspy\n",
    "\n",
    "class ImgGenSignature(dspy.Signature):\n",
    "  user_post = dspy.InputField(desc=\"the social media post the user wants to make\")\n",
    "  negative_prompt = dspy.InputField(desc='include this statement to the prompt to avoid generating incorrect images')\n",
    "  extracted_topics = dspy.OutputField(desc=\"the extracted topics from the user's post relevant to Data and AI. must be specific to databricks. include mosaic ai if user is interested in AI\")\n",
    "  flux_prompt = dspy.OutputField(desc=\"the prompt to be used for generating the image worthy of sharing in social media using flux1 image generation models.Focus on the ambience.\")\n",
    "  \n",
    "\n",
    "class SocialMediaProcessor(dspy.Module):\n",
    "    def __init__(self):\n",
    "        super().__init__()\n",
    "        self.prompt_generator = dspy.ChainOfThought(ImgGenSignature)\n",
    "\n",
    "    def forward(self, user_post, negative_prompt):\n",
    "        result = self.prompt_generator(user_post=user_post, negative_prompt=negative_prompt)\n",
    "        return result\n",
    "        "
   ]
  },
  {
   "cell_type": "code",
   "execution_count": 0,
   "metadata": {
    "application/vnd.databricks.v1+cell": {
     "cellMetadata": {
      "byteLimit": 2048000,
      "rowLimit": 10000
     },
     "inputWidgets": {},
     "nuid": "db7efdce-a466-46a0-b37e-75e3ead63169",
     "showTitle": false,
     "title": ""
    }
   },
   "outputs": [],
   "source": [
    "\n",
    "# Usage example\n",
    "processor = SocialMediaProcessor()\n",
    "result = processor(\n",
    "    user_post=test.post.split('\\n')[0],\n",
    "    negative_prompt=\"Do not include any text in the image or specific references to events.Do not include any words or any reference to databricks world tour\"\n",
    ")"
   ]
  },
  {
   "cell_type": "code",
   "execution_count": 0,
   "metadata": {
    "application/vnd.databricks.v1+cell": {
     "cellMetadata": {
      "byteLimit": 2048000,
      "rowLimit": 10000
     },
     "inputWidgets": {},
     "nuid": "abb391c0-61d6-4013-8142-e0292ccb07ed",
     "showTitle": false,
     "title": ""
    }
   },
   "outputs": [
    {
     "output_type": "execute_result",
     "data": {
      "text/plain": [
       "Prediction(\n",
       "    rationale=\"produce the flux_prompt. We need to first identify the key topics that are relevant to the user's post. The user is discussing LLMOps and the evolution of Large Language Model Operations, which relates to the field of Data and AI. Additionally, the user specifically mentions Databricks, which is a key aspect of their interest in AI and data innovations. \\n\\nFrom the user post, we can extract the following topics:\\n1. LLMOps (Large Language Model Operations)\\n2. Composable AI systems\\n3. The role of Databricks in AI and data innovation\\n\\nNext, we need to formulate the flux_prompt. This prompt should encapsulate the themes of innovation and technology while ensuring it aligns with the ambience suitable for social media sharing. Since the negative prompt instructs us to avoid any text or specific event references, we will focus on creating an engaging visual representation that reflects the excitement and evolution in the field of Data and AI, particularly with a nod to LLMOps and Databricks.\",\n",
       "    extracted_topics='1. LLMOps (Large Language Model Operations)\\n2. Composable AI systems\\n3. Databricks and its innovations in AI',\n",
       "    flux_prompt='Create a vibrant and dynamic visual representation showcasing the evolution of technology in the field of Data and AI, emphasizing Large Language Model Operations and the concept of composable AI systems. Use abstract elements that symbolize innovation and progress, with a futuristic ambience that inspires excitement about the future of data technologies.'\n",
       ")"
      ]
     },
     "execution_count": 22,
     "metadata": {},
     "output_type": "execute_result"
    }
   ],
   "source": [
    "result"
   ]
  },
  {
   "cell_type": "code",
   "execution_count": 0,
   "metadata": {
    "application/vnd.databricks.v1+cell": {
     "cellMetadata": {
      "byteLimit": 2048000,
      "rowLimit": 10000
     },
     "inputWidgets": {},
     "nuid": "cc1e32f8-a58f-4d81-91c2-7e131404b438",
     "showTitle": false,
     "title": ""
    }
   },
   "outputs": [],
   "source": [
    "# external_model_pplx = dspy.Databricks(model='sg-pplx',model_type='chat', api_key = API_KEY, api_base = API_BASE,max_tokens=2000,temperature=0.7)\n",
    "# dspy.configure(lm=external_model_pplx)"
   ]
  },
  {
   "cell_type": "code",
   "execution_count": 0,
   "metadata": {
    "application/vnd.databricks.v1+cell": {
     "cellMetadata": {
      "byteLimit": 2048000,
      "rowLimit": 10000
     },
     "inputWidgets": {},
     "nuid": "f4795c80-63d9-4a18-b69f-e21883ae63bd",
     "showTitle": false,
     "title": ""
    }
   },
   "outputs": [],
   "source": [
    "# class SearchContent(dspy.Signature):\n",
    "#   search_query= dspy.InputField()\n",
    "#   answer=dspy.OutputField(desc=\"Should contain links to databricks website\")\n",
    "\n",
    "# aggregate_result = dspy.ChainOfThought(SearchContent)\n",
    "# search_query = f\"Give me top 3 blogs with links from databricks website in the last 2 months related to the following topics {result.extracted_topics}. Results must include links\"\n",
    "# print(search_query)\n",
    "# pred = aggregate_result(search_query=search_query)"
   ]
  },
  {
   "cell_type": "code",
   "execution_count": 0,
   "metadata": {
    "application/vnd.databricks.v1+cell": {
     "cellMetadata": {
      "byteLimit": 2048000,
      "rowLimit": 10000
     },
     "inputWidgets": {},
     "nuid": "f478b12b-5985-4727-81f0-d1ac164595e6",
     "showTitle": false,
     "title": ""
    }
   },
   "outputs": [
    {
     "output_type": "stream",
     "name": "stdout",
     "output_type": "stream",
     "text": [
      "databricks blogs and videos related to the following databricks topics 1. LLMOps (Large Language Model Operations)\n2. Composable AI systems\n3. Databricks and its innovations in AI. \n"
     ]
    }
   ],
   "source": [
    "search_query = f\"databricks blogs and videos related to the following databricks topics {result.extracted_topics}. \"\n",
    "print(search_query)"
   ]
  },
  {
   "cell_type": "code",
   "execution_count": 0,
   "metadata": {
    "application/vnd.databricks.v1+cell": {
     "cellMetadata": {
      "byteLimit": 2048000,
      "rowLimit": 10000
     },
     "inputWidgets": {},
     "nuid": "0a9828a7-238d-4a36-8e8b-9cea95bfce59",
     "showTitle": false,
     "title": ""
    }
   },
   "outputs": [],
   "source": [
    "# search_query = \"databricks blogs and videos related to the following databricks topics Data foundation, AI, Knowledge sharing, Innovation, Databricks.\""
   ]
  },
  {
   "cell_type": "code",
   "execution_count": 0,
   "metadata": {
    "application/vnd.databricks.v1+cell": {
     "cellMetadata": {
      "byteLimit": 2048000,
      "rowLimit": 10000
     },
     "inputWidgets": {},
     "nuid": "40f6cbef-1a01-4f85-820a-815acacedd12",
     "showTitle": false,
     "title": ""
    }
   },
   "outputs": [
    {
     "output_type": "execute_result",
     "data": {
      "text/plain": [
       "'databricks blogs and videos related to the following databricks topics 1. LLMOps (Large Language Model Operations)\\n2. Composable AI systems\\n3. Databricks and its innovations in AI. '"
      ]
     },
     "execution_count": 27,
     "metadata": {},
     "output_type": "execute_result"
    }
   ],
   "source": [
    "search_query"
   ]
  },
  {
   "cell_type": "code",
   "execution_count": 0,
   "metadata": {
    "application/vnd.databricks.v1+cell": {
     "cellMetadata": {
      "byteLimit": 2048000,
      "rowLimit": 10000
     },
     "inputWidgets": {},
     "nuid": "d6aaa133-0699-4616-9f32-197ad6b61a82",
     "showTitle": false,
     "title": ""
    }
   },
   "outputs": [],
   "source": [
    "# messages =[\n",
    "#     {\n",
    "#       \"role\": \"user\",\n",
    "#       \"content\": \"Hello!\"\n",
    "#     },\n",
    "#     {\n",
    "#       \"role\": \"assistant\",\n",
    "#       \"content\": \"Hello! How can I assist you today?\"\n",
    "#     },\n",
    "#     {\n",
    "#       \"role\": \"user\",\n",
    "#       \"content\": search_query if search_query else \"None\",\n",
    "#     }]\n",
    "# from openai import OpenAI\n",
    "# from databricks.sdk import WorkspaceClient\n",
    "# import time\n",
    "\n",
    "# w = WorkspaceClient()\n",
    "# ENDPOINT_NAME = \"sg-pplx\"\n",
    "\n",
    "# client = OpenAI(\n",
    "#     api_key=w.tokens.create(\n",
    "#         comment=f\"sdk-{time.time_ns()}\", lifetime_seconds=120\n",
    "#     ).token_value,\n",
    "#     base_url=f\"{w.config.host}/serving-endpoints\",\n",
    "# )\n",
    "\n",
    "# response = client.chat.completions.create(\n",
    "#     model=ENDPOINT_NAME,\n",
    "#     messages=messages,\n",
    "#     max_tokens=2000,\n",
    "#     temperature=0.1\n",
    "# )"
   ]
  },
  {
   "cell_type": "code",
   "execution_count": 0,
   "metadata": {
    "application/vnd.databricks.v1+cell": {
     "cellMetadata": {
      "byteLimit": 2048000,
      "rowLimit": 10000
     },
     "inputWidgets": {},
     "nuid": "8b9098bd-51c8-4dad-8522-ac1f63d8e5d6",
     "showTitle": false,
     "title": ""
    }
   },
   "outputs": [],
   "source": [
    "# response.choices[0].message.content"
   ]
  },
  {
   "cell_type": "code",
   "execution_count": 0,
   "metadata": {
    "application/vnd.databricks.v1+cell": {
     "cellMetadata": {
      "byteLimit": 2048000,
      "rowLimit": 10000
     },
     "inputWidgets": {},
     "nuid": "4f322d98-8512-43a8-bf22-74de0093674d",
     "showTitle": false,
     "title": ""
    }
   },
   "outputs": [],
   "source": [
    "from langchain_community.tools import DuckDuckGoSearchResults\n",
    "\n",
    "search = DuckDuckGoSearchResults()\n",
    "sr = search.invoke(search_query)"
   ]
  },
  {
   "cell_type": "code",
   "execution_count": 0,
   "metadata": {
    "application/vnd.databricks.v1+cell": {
     "cellMetadata": {
      "byteLimit": 2048000,
      "rowLimit": 10000
     },
     "inputWidgets": {},
     "nuid": "2d721c28-d3e3-4a84-9a38-bcd24873bfaf",
     "showTitle": false,
     "title": ""
    }
   },
   "outputs": [],
   "source": [
    "messages =[\n",
    "    {\n",
    "      \"role\": \"user\",\n",
    "      \"content\": \"Hello!\"\n",
    "    },\n",
    "    {\n",
    "      \"role\": \"assistant\",\n",
    "      \"content\": \"Hello! How can I assist you today?\"\n",
    "    },\n",
    "    {\n",
    "      \"role\": \"user\",\n",
    "      \"content\": f\"Extract all the links from this text, produce a JSON array. Only output this JSON and nothing else: {sr}\",\n",
    "    }]"
   ]
  },
  {
   "cell_type": "code",
   "execution_count": 0,
   "metadata": {
    "application/vnd.databricks.v1+cell": {
     "cellMetadata": {
      "byteLimit": 2048000,
      "rowLimit": 10000
     },
     "inputWidgets": {},
     "nuid": "d069ced1-1b27-41ce-ad63-319479294f39",
     "showTitle": false,
     "title": ""
    }
   },
   "outputs": [],
   "source": [
    "ENDPOINT_NAME = \"sg-external\"\n",
    "from openai import OpenAI\n",
    "from databricks.sdk import WorkspaceClient\n",
    "import time\n",
    "w = WorkspaceClient()\n",
    "client = OpenAI(\n",
    "    api_key=w.tokens.create(\n",
    "        comment=f\"sdk-{time.time_ns()}\", lifetime_seconds=120\n",
    "    ).token_value,\n",
    "    base_url=f\"{w.config.host}/serving-endpoints\",\n",
    ")\n",
    "\n",
    "response = client.chat.completions.create(\n",
    "    model=ENDPOINT_NAME,\n",
    "    messages=messages,\n",
    "    max_tokens=2000,\n",
    "    temperature=0.1\n",
    ")"
   ]
  },
  {
   "cell_type": "code",
   "execution_count": 0,
   "metadata": {
    "application/vnd.databricks.v1+cell": {
     "cellMetadata": {
      "byteLimit": 2048000,
      "rowLimit": 10000
     },
     "inputWidgets": {},
     "nuid": "91855a61-76ca-4a96-9f4e-d51f3cb73e3c",
     "showTitle": false,
     "title": ""
    }
   },
   "outputs": [],
   "source": [
    "from rich import print\n",
    "import json\n",
    "json_response = response.choices[0].message.content"
   ]
  },
  {
   "cell_type": "code",
   "execution_count": 0,
   "metadata": {
    "application/vnd.databricks.v1+cell": {
     "cellMetadata": {
      "byteLimit": 2048000,
      "rowLimit": 10000
     },
     "inputWidgets": {},
     "nuid": "ce0c55c4-fa75-4e55-9a39-690afbc4038c",
     "showTitle": false,
     "title": ""
    }
   },
   "outputs": [
    {
     "output_type": "execute_result",
     "data": {
      "text/plain": [
       "['https://www.databricks.com/blog/big-book-mlops-updated-generative-ai',\n",
       " 'https://www.databricks.com/blog/building-custom-genai-llms-and-beyond',\n",
       " 'https://community.databricks.com/t5/technical-blog/introducing-mlops-gym-your-practical-guide-to-mlops-on/ba-p/62576',\n",
       " 'https://www.databricks.com/blog/category/engineering/data-science-machine-learning']"
      ]
     },
     "execution_count": 34,
     "metadata": {},
     "output_type": "execute_result"
    }
   ],
   "source": [
    "\n",
    "json.loads(json_response[json_response.find(\"[\"):json_response.find(\"]\")+1].strip('\\n'))"
   ]
  }
 ],
 "metadata": {
  "application/vnd.databricks.v1+notebook": {
   "dashboards": [],
   "environmentMetadata": {
    "base_environment": "",
    "client": "1"
   },
   "language": "python",
   "notebookMetadata": {
    "pythonIndentUnit": 2
   },
   "notebookName": "splash-pipeline",
   "widgets": {}
  }
 },
 "nbformat": 4,
 "nbformat_minor": 0
}
